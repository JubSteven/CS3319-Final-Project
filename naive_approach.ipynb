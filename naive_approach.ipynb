{
 "cells": [
  {
   "cell_type": "code",
   "execution_count": 1,
   "metadata": {},
   "outputs": [
    {
     "name": "stderr",
     "output_type": "stream",
     "text": [
      "c:\\Users\\Steven Zhu\\AppData\\Local\\Programs\\Python\\Python38\\lib\\site-packages\\transformers\\utils\\generic.py:441: UserWarning: torch.utils._pytree._register_pytree_node is deprecated. Please use torch.utils._pytree.register_pytree_node instead.\n",
      "  _torch_pytree._register_pytree_node(\n"
     ]
    }
   ],
   "source": [
    "from baseline import inference_wrapper\n",
    "import torch\n",
    "import torch_geometric.utils as pyg_utils\n",
    "from torch_geometric.data import Data"
   ]
  },
  {
   "cell_type": "code",
   "execution_count": 6,
   "metadata": {},
   "outputs": [],
   "source": [
    "def edge_level_augmentation(graph, pe, pt, centrality_measure='degree'):\n",
    "    pt = torch.tensor(pt)\n",
    "    \n",
    "    # Calculate node centrality measures\n",
    "    if centrality_measure == 'degree':\n",
    "        node_centrality = pyg_utils.degree(graph.edge_index[0], graph.num_nodes)\n",
    "    elif centrality_measure == 'eigenvector':\n",
    "        node_centrality = pyg_utils.eigenvector_centrality(graph.edge_index[0], graph.num_nodes)\n",
    "    else:\n",
    "        node_centrality = pyg_utils.pagerank(graph.edge_index[0], graph.num_nodes)\n",
    "    \n",
    "    # Calculate edge centrality measures\n",
    "    edge_weights = (node_centrality[graph.edge_index[0]] + node_centrality[graph.edge_index[1]]) / 2.0\n",
    "    \n",
    "    # Take the logarithm of the edge weights\n",
    "    edge_weights = torch.log(edge_weights)\n",
    "    \n",
    "    # Calculate the maximum and average edge weights\n",
    "    max_weight = edge_weights.max().item()\n",
    "    avg_weight = edge_weights.mean().item()\n",
    "    \n",
    "    # Calculate the probability of removing each edge\n",
    "    edge_probabilities = torch.min(((max_weight - torch.log(edge_weights)) /\n",
    "                                    (max_weight - avg_weight)) * pe, pt)\n",
    "    \n",
    "    # Remove edges based on their probabilities\n",
    "    mask = torch.rand(edge_probabilities.size()) < edge_probabilities\n",
    "    removed_edge_indices = graph.edge_index[:, mask]\n",
    "    removed_edge_count = removed_edge_indices.size(1)\n",
    "    graph.edge_index = graph.edge_index[:, ~mask]\n",
    "    \n",
    "    # Print the number of removed edges\n",
    "    print(f\"Number of removed edges: {removed_edge_count}\")\n",
    "    \n",
    "    return graph"
   ]
  }
 ],
 "metadata": {
  "kernelspec": {
   "display_name": "Python 3",
   "language": "python",
   "name": "python3"
  },
  "language_info": {
   "codemirror_mode": {
    "name": "ipython",
    "version": 3
   },
   "file_extension": ".py",
   "mimetype": "text/x-python",
   "name": "python",
   "nbconvert_exporter": "python",
   "pygments_lexer": "ipython3",
   "version": "3.8.5"
  }
 },
 "nbformat": 4,
 "nbformat_minor": 2
}
