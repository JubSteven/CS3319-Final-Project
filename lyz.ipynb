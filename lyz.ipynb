{
 "cells": [
  {
   "cell_type": "code",
   "execution_count": 1,
   "metadata": {},
   "outputs": [
    {
     "name": "stderr",
     "output_type": "stream",
     "text": [
      "/Users/yizhou/anaconda3/lib/python3.10/site-packages/tqdm/auto.py:21: TqdmWarning: IProgress not found. Please update jupyter and ipywidgets. See https://ipywidgets.readthedocs.io/en/stable/user_install.html\n",
      "  from .autonotebook import tqdm as notebook_tqdm\n"
     ]
    }
   ],
   "source": [
    "import numpy as np\n",
    "import torch_geometric as pyg\n",
    "import pandas as pd\n",
    "import torch\n",
    "import os\n",
    "from torch_geometric.utils import to_undirected\n",
    "\n",
    "# build full list dictionary\n",
    "data = torch.load('./data/data.pt')\n",
    "edge_indices = data.edge_index.numpy()\n",
    "# create adjacent list\n",
    "full_list = {}  #edges-index pair\n",
    "full_list_inverse = {} #index-edges pair\n",
    "index = 0\n",
    "for i in range(edge_indices.shape[1]):\n",
    "    if edge_indices[0][i] <= edge_indices[1][i]:\n",
    "        full_list[(edge_indices[0][i], edge_indices[1][i])] = index\n",
    "        full_list_inverse[index] = (edge_indices[0][i], edge_indices[1][i])\n",
    "        index += 1"
   ]
  },
  {
   "cell_type": "code",
   "execution_count": 2,
   "metadata": {},
   "outputs": [],
   "source": [
    "# Numerical methods\n",
    "class my_numerical():\n",
    "    def __init__(self, mean=0, variance=1):\n",
    "        self.mean = mean\n",
    "        self.variance = variance\n",
    "\n",
    "    # Two functions should work as inverse\n",
    "    def my_normalize_and_set(self, scores):\n",
    "        self.mean = np.mean(scores)\n",
    "        self.variance = np.sum((scores-self.mean) ** 2) / len(scores)\n",
    "        return (scores - self.mean) / np.sqrt(self.variance)\n",
    "\n",
    "    def my_normalize_inverse(self, scores):\n",
    "        return scores * np.sqrt(self.variance) + self.mean\n",
    "    \n",
    "    def reset(self):\n",
    "        self.mean = 0\n",
    "        self.variance = 1\n",
    "    "
   ]
  },
  {
   "cell_type": "code",
   "execution_count": 3,
   "metadata": {},
   "outputs": [],
   "source": [
    "# data proceeding\n",
    "\n",
    "def read_scores(file_path, numerical):\n",
    "    scores = []\n",
    "    try:\n",
    "        with open(file_path, 'r') as file:\n",
    "            for line in file:\n",
    "                score = float(line.strip())\n",
    "                scores.append(score)\n",
    "        return numerical.my_normalize_and_set(scores)\n",
    "    except FileNotFoundError:\n",
    "        print(\"File not found.\")\n",
    "        return None\n",
    "    except ValueError:\n",
    "        print(\"Error: Invalid score format in file.\")\n",
    "        return None\n",
    "\n",
    "def get_edges(csv_path):\n",
    "    df = pd.read_csv(csv_path)\n",
    "    edge_arr = df.to_numpy()[:, 1:]\n",
    "    edges = []\n",
    "    edge_list = []\n",
    "    for j in range(edge_arr.shape[0]):\n",
    "        edge_list.append(edge_arr[j][edge_arr[j] != -1].reshape(2, -1))\n",
    "    for k in range(6):\n",
    "        edge_indices = edge_list[k]\n",
    "        data_list = [0 for l in range(len(full_list))]\n",
    "        for l in range(edge_indices.shape[1]):\n",
    "            if edge_indices[0][l] <= edge_indices[1][l]:\n",
    "                data_list[full_list[(edge_indices[0][l], edge_indices[1][l])]] = 1\n",
    "        edges.append(data_list)\n",
    "    return edges\n",
    "\n",
    "def get_raw_data(dataset, num_submit, numerical):\n",
    "    score_file = os.path.join(dataset, 'scores.txt')\n",
    "    scores = read_scores(score_file, numerical)\n",
    "    X = []\n",
    "    Y = []\n",
    "    for i in range(num_submit):\n",
    "        edges = get_edges(os.path.join(dataset, 'submission-{}.csv'.format(i+1))) # starts from submission-1\n",
    "        score = [scores[i] for j in range(6)]\n",
    "        X += edges\n",
    "        Y += score\n",
    "    return np.array(X), np.array(Y)\n",
    "\n",
    "# NOTE: This is a PERFECT csv writing function now. Please DO NOT CHANGE IT.\n",
    "def construct_edge_list(bitmap):\n",
    "    edge_list = []\n",
    "    for i in range(len(bitmap)):\n",
    "        nodes1 = []\n",
    "        nodes2 = []\n",
    "        for j in range(len(bitmap[i])):\n",
    "            if bitmap[i][j]==1:\n",
    "                nodes1 += [full_list_inverse[j][0]]\n",
    "                nodes2 += [full_list_inverse[j][1]]\n",
    "        edges = nodes1 + nodes2 + nodes2 + nodes1\n",
    "        edge_list.append(np.array(edges,dtype='int64'))\n",
    "    return edge_list\n",
    "\n",
    "def edge_to_csv(edge_list, file):\n",
    "   # NOTE: Don't change this, used for generating the submission csv\n",
    "    df = pd.DataFrame(edge_list).fillna(-1).astype(int)\n",
    "    # fill those empty units with -1 (don't change it)\n",
    "    df.insert(0, 'ID', list(range(len(edge_list))))\n",
    "    df.to_csv(file, index=False)"
   ]
  },
  {
   "cell_type": "code",
   "execution_count": 4,
   "metadata": {},
   "outputs": [
    {
     "name": "stdout",
     "output_type": "stream",
     "text": [
      "(198, 5069)\n",
      "(198,)\n",
      "mean:  0.7936078787878788\n",
      "variance:  3.581283379246974e-06\n"
     ]
    }
   ],
   "source": [
    "# read data\n",
    "dataset = './results'\n",
    "num_submit = 33 #The number should increase everyday!\n",
    "\n",
    "# Set numerical method\n",
    "numerical = my_numerical()\n",
    "\n",
    "X, Y = get_raw_data(dataset, num_submit, numerical)\n",
    "\n",
    "print(X.shape)\n",
    "print(Y.shape)\n",
    "print(\"mean: \", numerical.mean)\n",
    "print(\"variance: \", numerical.variance)"
   ]
  },
  {
   "cell_type": "code",
   "execution_count": 5,
   "metadata": {},
   "outputs": [],
   "source": [
    "# Some models for training and prediction\n",
    "from sklearn.ensemble import RandomForestRegressor\n",
    "import xgboost as xgb\n",
    "import lightgbm as lgb\n",
    "from sklearn.gaussian_process import GaussianProcessRegressor\n",
    "from sklearn.gaussian_process.kernels import RBF, ConstantKernel as C\n",
    "\n",
    "def RandomForrest(X_train, y_train, X_test):\n",
    "    # Use Random Forres tRegressor\n",
    "    # Initialize the RandomForestRegressor model\n",
    "    model = RandomForestRegressor(n_estimators=5000, random_state=42)\n",
    "\n",
    "    # Train the model\n",
    "    model.fit(X_train, y_train)\n",
    "\n",
    "    # Predict on the testing set\n",
    "    y_pred = model.predict(X_test)\n",
    "    y_pred_train = model.predict(X_train)\n",
    "    return model, y_pred, y_pred_train\n",
    "\n",
    "def XGBoost(X_train, y_train, X_test):\n",
    "    model = xgb.XGBRegressor(objective ='reg:squarederror', seed=42)\n",
    "\n",
    "    # Train the model\n",
    "    model.fit(X_train, y_train)\n",
    "\n",
    "    # Predict on the testing set\n",
    "    y_pred = model.predict(X_test)\n",
    "    y_pred_train = model.predict(X_train)\n",
    "    return model, y_pred, y_pred_train\n",
    "\n",
    "\n",
    "def LightGBM(X_train, y_train, X_test):\n",
    "    # Convert dataset to LightGBM format\n",
    "    train_data = lgb.Dataset(X_train, label=y_train)\n",
    "    test_data = lgb.Dataset(X_test, label=[0 for i in range(len(X_test))])\n",
    "\n",
    "    # Set parameters for LightGBM\n",
    "    params = {\n",
    "        'objective': 'regression',\n",
    "        'metric': 'mse',  # Mean Squared Error\n",
    "        'verbosity': -1,  # Suppress LightGBM output\n",
    "        'random_state': 42\n",
    "    }\n",
    "    # Train the model\n",
    "    model = lgb.train(params, train_data, num_boost_round=1000, valid_sets=[test_data])\n",
    "\n",
    "    # Predict on the testing set\n",
    "    y_pred = model.predict(X_test, num_iteration=model.best_iteration)\n",
    "    y_pred_train = model.predict(X_train, num_iteration=model.best_iteration)\n",
    "    return model, y_pred, y_pred_train\n",
    "\n",
    "# Gaussian Progress Regresson\n",
    "def Gaussian(X_train, y_train, X_test):\n",
    "    # Define the kernel for Gaussian Process Regression\n",
    "    kernel = C(1.0, (1e-3, 1e3)) * RBF(1.0, (1e-2, 1e2))\n",
    "\n",
    "    # Initialize Gaussian Process Regression model\n",
    "    gp = GaussianProcessRegressor(kernel=kernel, n_restarts_optimizer=10, random_state=42)\n",
    "\n",
    "    # Train the model\n",
    "    gp.fit(X_train, y_train)\n",
    "\n",
    "    # Predict on the testing set\n",
    "    y_pred, sigma = gp.predict(X_test, return_std=True)\n",
    "    y_pred_train, _ = gp.predict(X_train, return_std=True)\n",
    "    return gp, y_pred, y_pred_train\n",
    "\n"
   ]
  },
  {
   "cell_type": "code",
   "execution_count": 7,
   "metadata": {},
   "outputs": [],
   "source": [
    "# Leaning, Currently use RandomForest Regressor\n",
    "from sklearn.model_selection import train_test_split\n",
    "from sklearn.metrics import mean_squared_error\n",
    "\n",
    "\n",
    "# Split the dataset into training and testing sets\n",
    "X_train, X_test, y_train, y_test = train_test_split(X, Y, test_size=0.2, random_state=42)\n",
    "\n",
    "methods = [RandomForrest, XGBoost, LightGBM, Gaussian]\n",
    "methods_str = ['RandomForrest', 'XGBoost', 'LightGBM', 'Gaussian']\n",
    "train_mses = []\n",
    "test_mses = []\n",
    "for method in methods:\n",
    "    model, y_pred, y_pred_train = method(X_train, y_train, X_test)\n",
    "    train_mse = mean_squared_error(numerical.my_normalize_inverse(y_pred_train), numerical.my_normalize_inverse(y_train))\n",
    "    test_mse = mean_squared_error(numerical.my_normalize_inverse(y_test), numerical.my_normalize_inverse(y_pred))\n",
    "    train_mses.append(train_mse)\n",
    "    test_mses.append(test_mse)\n"
   ]
  },
  {
   "cell_type": "code",
   "execution_count": 11,
   "metadata": {},
   "outputs": [
    {
     "data": {
      "image/png": "[encoded data removed]",
      "text/plain": [
       "<Figure size 1000x600 with 1 Axes>"
      ]
     },
     "metadata": {},
     "output_type": "display_data"
    }
   ],
   "source": [
    "# make graph\n",
    "import matplotlib.pyplot as plt\n",
    "import numpy as np\n",
    "\n",
    "# Define the methods and their corresponding losses\n",
    "\n",
    "\n",
    "# Number of methods\n",
    "n_methods = len(methods_str)\n",
    "\n",
    "# Create an array for the x-axis positions\n",
    "x = np.arange(n_methods)\n",
    "\n",
    "# Width of the bars\n",
    "width = 0.35\n",
    "\n",
    "# Create the plot\n",
    "fig, ax = plt.subplots(figsize=(10, 6))\n",
    "\n",
    "# Plot the training and testing losses\n",
    "bars1 = ax.bar(x - width/2, train_mses, width, label='Train MSE Loss')\n",
    "bars2 = ax.bar(x + width/2, test_mses, width, label='Test MSE Loss')\n",
    "\n",
    "# Set logarithmic scale for y-axis\n",
    "ax.set_yscale('log')\n",
    "\n",
    "# Add some text for labels, title, and custom x-axis tick labels, etc.\n",
    "ax.set_xlabel('Methods')\n",
    "ax.set_ylabel('MSE Loss')\n",
    "ax.set_title('Train and Test MSE Losses by Method')\n",
    "ax.set_xticks(x)\n",
    "ax.set_xticklabels(methods_str)\n",
    "ax.legend()\n",
    "\n",
    "# Function to add a label above each bar in bars1 and bars2\n",
    "def add_labels(bars):\n",
    "    for bar in bars:\n",
    "        height = bar.get_height()\n",
    "        ax.annotate(f'{height:.1e}',\n",
    "                    xy=(bar.get_x() + bar.get_width() / 2, height),\n",
    "                    xytext=(0, 3),  # 3 points vertical offset\n",
    "                    textcoords=\"offset points\",\n",
    "                    ha='center', va='bottom')\n",
    "\n",
    "# Add labels\n",
    "add_labels(bars1)\n",
    "add_labels(bars2)\n",
    "\n",
    "# Display the plot\n",
    "plt.savefig('Loss.png')"
   ]
  },
  {
   "cell_type": "code",
   "execution_count": 52,
   "metadata": {},
   "outputs": [
    {
     "name": "stdout",
     "output_type": "stream",
     "text": [
      "Predicted Mean Accuracy:  [0.7936531024325092, 0.7931987728769108, 0.7933300689706129, 0.793816347910855, 0.7933946016109678, 0.7981160989984852]\n"
     ]
    }
   ],
   "source": [
    "# test\n",
    "num_of_tests = 6\n",
    "mean_accs = []\n",
    "for i in range(num_of_tests):\n",
    "    test_file = 't{}.csv'.format(i+1)\n",
    "    edges = get_edges(test_file)\n",
    "    pred = numerical.my_normalize_inverse(model.predict(edges))\n",
    "    mean_accs.append(np.mean(pred))\n",
    "print(\"Predicted Mean Accuracy: \", mean_accs)\n"
   ]
  },
  {
   "cell_type": "code",
   "execution_count": 39,
   "metadata": {},
   "outputs": [],
   "source": [
    "# Count edges\n",
    "# read data\n",
    "dataset = './results'\n",
    "num_submit = 33 #The number should increase everyday!\n",
    "\n",
    "# Set numerical method\n",
    "numerical = my_numerical()\n",
    "\n",
    "X, Y = get_raw_data(dataset, num_submit, numerical)\n",
    "ones = np.ones(X.shape)\n",
    "# to count score for each edge\n",
    "edge_score = np.sum((ones - X) * Y[:, np.newaxis] * np.abs(Y[:, np.newaxis]), axis=0)\n",
    "edges = np.sum(ones - X, axis=0)\n",
    "sorted_score = sorted(enumerate(edge_score), key=lambda x: -x[1])\n"
   ]
  },
  {
   "cell_type": "code",
   "execution_count": 40,
   "metadata": {},
   "outputs": [
    {
     "name": "stdout",
     "output_type": "stream",
     "text": [
      "[4969 4869 4769 4669 4569 4469]\n",
      "6 19876\n"
     ]
    }
   ],
   "source": [
    "# A rediculious try, by simply deleting the edges with highest score\n",
    "bitmap = []\n",
    "for i in range(6):\n",
    "    ref = [j[0] for j in sorted_score[:(i+1)*100]]\n",
    "    bits = [int(not k in ref) for k in range(len(full_list))]\n",
    "    bitmap.append(bits)\n",
    "\n",
    "print(np.sum(bitmap, axis=1))\n",
    "edge_list = construct_edge_list(bitmap)\n",
    "print(len(edge_list), len(edge_list[0]))\n",
    "edge_to_csv(edge_list, 'submission.csv')\n",
    "           "
   ]
  },
  {
   "cell_type": "code",
   "execution_count": 28,
   "metadata": {},
   "outputs": [
    {
     "name": "stdout",
     "output_type": "stream",
     "text": [
      "1.2092315337269097\n",
      "1.780649037594955\n",
      "1.6738981663143615\n",
      "1.7561543042892835\n",
      "1.7853059982278854\n",
      "1.6799053562296415\n",
      "[4969 4869 4769 4669 4569 4469]\n",
      "6 19876\n"
     ]
    }
   ],
   "source": [
    "# Second rediculious try, by simply deleting the edges with highest score, incorporating our model\n",
    "bitmap = []\n",
    "for i in range(6):\n",
    "    maxscore = 0\n",
    "    ref = []\n",
    "    for t in range(20): #try 5 times\n",
    "        ref_temp = np.random.choice([j[0] for j in sorted_score[:(i+1)*105]], size = (i+1)*100, replace = False)\n",
    "        bits_temp = [int(not k in ref_temp) for k in range(len(full_list))]\n",
    "        score = model.predict([bits_temp], num_iteration=model.best_iteration)\n",
    "        if score[0] > maxscore:\n",
    "            ref = ref_temp\n",
    "            maxscore = score[0]\n",
    "    print(maxscore)\n",
    "    bits = [int(not k in ref) for k in range(len(full_list))]\n",
    "    bitmap.append(bits)\n",
    "\n",
    "print(np.sum(bitmap, axis=1))\n",
    "edge_list = construct_edge_list(bitmap)\n",
    "print(len(edge_list), len(edge_list[0]))\n",
    "edge_to_csv(edge_list, 'submission.csv')"
   ]
  },
  {
   "cell_type": "code",
   "execution_count": 7,
   "metadata": {},
   "outputs": [
    {
     "name": "stdout",
     "output_type": "stream",
     "text": [
      "True\n"
     ]
    }
   ],
   "source": [
    "# test for writing csv\n",
    "csv1 = 'test.csv'\n",
    "csv2 = './results/submission-4.csv'\n",
    "edges1, edges2 = get_edges(csv1), get_edges(csv2)\n",
    "print(edges1==edges2)"
   ]
  },
  {
   "cell_type": "code",
   "execution_count": null,
   "metadata": {},
   "outputs": [],
   "source": []
  }
 ],
 "metadata": {
  "kernelspec": {
   "display_name": "base",
   "language": "python",
   "name": "python3"
  },
  "language_info": {
   "codemirror_mode": {
    "name": "ipython",
    "version": 3
   },
   "file_extension": ".py",
   "mimetype": "text/x-python",
   "name": "python",
   "nbconvert_exporter": "python",
   "pygments_lexer": "ipython3",
   "version": "3.10.9"
  }
 },
 "nbformat": 4,
 "nbformat_minor": 2
}
